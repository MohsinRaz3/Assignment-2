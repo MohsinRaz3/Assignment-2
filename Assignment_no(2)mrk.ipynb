{
 "cells": [
  {
   "cell_type": "markdown",
   "metadata": {},
   "source": [
    "# The ABC company has hired you as an intern on the coding team that creates e-commerce applications.  \n",
    "You must write a script that asks the user for a value. The value must be used as a whole number in a calculation, even if the user enters a decimal value. \n",
    "\n",
    "You need to write the code to meet the requirements."
   ]
  },
  {
   "cell_type": "code",
   "execution_count": 6,
   "metadata": {},
   "outputs": [
    {
     "name": "stdout",
     "output_type": "stream",
     "text": [
      "Enter the number of items: 7.8\n"
     ]
    }
   ],
   "source": [
    "Items= float(input(\"Enter the number of items: \"))"
   ]
  },
  {
   "cell_type": "code",
   "execution_count": 7,
   "metadata": {},
   "outputs": [
    {
     "name": "stdout",
     "output_type": "stream",
     "text": [
      "Total 7  items are purchased, Thank you for shopping!!\n"
     ]
    }
   ],
   "source": [
    "numbers= int(Items)\n",
    "print(\"Total\", numbers,\" items are purchased, Thank you for shopping!!\")"
   ]
  },
  {
   "cell_type": "markdown",
   "metadata": {},
   "source": [
    "# You are creating a Python program that shows a congratulation message to employees on their service anniversary.\n",
    "You need to calculate the number of years of service and print a congratulatory message."
   ]
  },
  {
   "cell_type": "code",
   "execution_count": 8,
   "metadata": {},
   "outputs": [
    {
     "name": "stdout",
     "output_type": "stream",
     "text": [
      "Year of appointment: 2001\n",
      "Year of retirement: 2010\n"
     ]
    }
   ],
   "source": [
    "appointed= int(input(\"Year of appointment: \"))\n",
    "retired= int(input(\"Year of retirement: \")) "
   ]
  },
  {
   "cell_type": "code",
   "execution_count": 10,
   "metadata": {},
   "outputs": [],
   "source": [
    "aniversary= retired - appointed"
   ]
  },
  {
   "cell_type": "code",
   "execution_count": 12,
   "metadata": {},
   "outputs": [
    {
     "name": "stdout",
     "output_type": "stream",
     "text": [
      "Congratulation! Wishing you happy 9  work anniversary!\n"
     ]
    }
   ],
   "source": [
    "print(\"Congratulation! Wishing you happy\",aniversary, \" work anniversary!\")"
   ]
  },
  {
   "cell_type": "markdown",
   "metadata": {},
   "source": [
    "# Write a Python program to convert temperatures  from fahrenheit to celsius, \n",
    "#step 1: take \"fahrenheit Temperature\" from user in integer data type\n",
    "#step 2: apply formula that is       (  C = (5/9) * (fahrenheit_temperature - 32)  )\n",
    "#step 3: print step 2. "
   ]
  },
  {
   "cell_type": "code",
   "execution_count": 15,
   "metadata": {},
   "outputs": [
    {
     "name": "stdout",
     "output_type": "stream",
     "text": [
      "fahrenheit Temperature:78\n"
     ]
    }
   ],
   "source": [
    "fahrenheit_temperature = int(input(\"fahrenheit Temperature:\"))"
   ]
  },
  {
   "cell_type": "code",
   "execution_count": 23,
   "metadata": {},
   "outputs": [],
   "source": [
    "celsius= (5/9) * (fahrenheit_temperature - 32)"
   ]
  },
  {
   "cell_type": "code",
   "execution_count": 20,
   "metadata": {},
   "outputs": [
    {
     "name": "stdout",
     "output_type": "stream",
     "text": [
      "Temperature is 25.555555555555557 celsius\n"
     ]
    }
   ],
   "source": [
    "print(\"Temperature is\",celsius, \"celsius\")"
   ]
  },
  {
   "cell_type": "markdown",
   "metadata": {},
   "source": [
    "<h3>assign a vlue to grade by checking the following conditions:: </h3>\n",
    "<h3>if % is greater then and equal to 90 and less then 100 grade is A+ </h3>\n",
    "<h3>if % is greater then and equal to 80 and less then 90 grade is A </h3>\n",
    "<h3>if % is greater then and equal to 70 and less then 80 grade is B </h3>\n",
    "<h3>if % is greater then and equal to 60 and less then 70 grade is C </h3>\n",
    "<h3>if % is less than 60 grade is FAIL </h3>\n"
   ]
  },
  {
   "cell_type": "code",
   "execution_count": 24,
   "metadata": {},
   "outputs": [
    {
     "name": "stdout",
     "output_type": "stream",
     "text": [
      "500\n"
     ]
    }
   ],
   "source": [
    "total_marks = 500\n",
    "print(total_marks)"
   ]
  },
  {
   "cell_type": "code",
   "execution_count": 31,
   "metadata": {},
   "outputs": [
    {
     "name": "stdout",
     "output_type": "stream",
     "text": [
      "414\n",
      "Percentage: 82.8 %\n"
     ]
    }
   ],
   "source": [
    "Maths=78\n",
    "English=68\n",
    "Urdu=91\n",
    "Physics= 86\n",
    "Chemistry= 70\n",
    "\n",
    "obtained_marks= Maths + English + Urdu + Physics + Chemistry\n",
    "print(obtained_marks)\n",
    "\n",
    "percentage = (obtained_marks / total_marks)*100\n",
    "print(\"Percentage:\",percentage,\"%\")"
   ]
  },
  {
   "cell_type": "code",
   "execution_count": 34,
   "metadata": {},
   "outputs": [],
   "source": [
    "Grade = None\n",
    "if percentage >= 90 and percentage < 100 :\n",
    "    Grade = \"A+\"\n",
    "elif percentage >= 80 and percentage < 90 :\n",
    "    Grade = \"A\"\n",
    "elif percentage >= 70 and percentage < 80 :\n",
    "    Grade = \"B\"\n",
    "elif percentage >= 60 and percentage < 70 :\n",
    "    Grade = \"C\"\n",
    "elif percentage < 60 :\n",
    "    Grade = \"FAIL\""
   ]
  },
  {
   "cell_type": "markdown",
   "metadata": {},
   "source": [
    "<h3>Print grade percentage and obtained marks</h3>"
   ]
  },
  {
   "cell_type": "code",
   "execution_count": 37,
   "metadata": {},
   "outputs": [
    {
     "name": "stdout",
     "output_type": "stream",
     "text": [
      "Grades: A\n",
      "Percentage: 82.8\n",
      "Total marks obtained: 414\n"
     ]
    }
   ],
   "source": [
    "print(\"Grades:\",Grade)\n",
    "print(\"Percentage:\", percentage)\n",
    "print(\"Total marks obtained:\", obtained_marks)"
   ]
  },
  {
   "cell_type": "code",
   "execution_count": null,
   "metadata": {},
   "outputs": [],
   "source": []
  }
 ],
 "metadata": {
  "kernelspec": {
   "display_name": "Python 3",
   "language": "python",
   "name": "python3"
  },
  "language_info": {
   "codemirror_mode": {
    "name": "ipython",
    "version": 3
   },
   "file_extension": ".py",
   "mimetype": "text/x-python",
   "name": "python",
   "nbconvert_exporter": "python",
   "pygments_lexer": "ipython3",
   "version": "3.7.3"
  }
 },
 "nbformat": 4,
 "nbformat_minor": 2
}
